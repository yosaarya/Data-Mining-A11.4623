{
  "nbformat": 4,
  "nbformat_minor": 0,
  "metadata": {
    "colab": {
      "name": "Untitled0.ipynb",
      "provenance": [],
      "collapsed_sections": [],
      "authorship_tag": "ABX9TyMweQovxPDkfe0NS+Eraar5",
      "include_colab_link": true
    },
    "kernelspec": {
      "name": "python3",
      "display_name": "Python 3"
    },
    "language_info": {
      "name": "python"
    }
  },
  "cells": [
    {
      "cell_type": "markdown",
      "metadata": {
        "id": "view-in-github",
        "colab_type": "text"
      },
      "source": [
        "<a href=\"https://colab.research.google.com/github/yosaarya/Data-Mining-A11.4623/blob/main/naive_bayes.ipynb\" target=\"_parent\"><img src=\"https://colab.research.google.com/assets/colab-badge.svg\" alt=\"Open In Colab\"/></a>"
      ]
    },
    {
      "cell_type": "code",
      "metadata": {
        "id": "bWL-xkZsJgEf"
      },
      "source": [
        "import numpy as np\n",
        "import matplotlib.pyplot as plt\n",
        "import pandas as pd"
      ],
      "execution_count": 1,
      "outputs": []
    },
    {
      "cell_type": "markdown",
      "metadata": {
        "id": "uVa-x06dJlTJ"
      },
      "source": [
        "Menggunakan data dari Students Performance"
      ]
    },
    {
      "cell_type": "code",
      "metadata": {
        "id": "wEXQkShxJjAX"
      },
      "source": [
        "dataset = pd.read_csv('StudentsPerformance.csv')\n",
        "x = dataset.iloc[:, [3,4]].values\n",
        "y = dataset.iloc[:, -4].values"
      ],
      "execution_count": 2,
      "outputs": []
    },
    {
      "cell_type": "code",
      "metadata": {
        "colab": {
          "base_uri": "https://localhost:8080/"
        },
        "id": "ItNchBDKJue-",
        "outputId": "8fb3b9b6-4ac0-4522-c4b9-fda937f71b47"
      },
      "source": [
        "print(x)"
      ],
      "execution_count": 3,
      "outputs": [
        {
          "output_type": "stream",
          "text": [
            "[[72 72]\n",
            " [69 90]\n",
            " [90 95]\n",
            " [47 57]\n",
            " [76 78]\n",
            " [71 83]\n",
            " [88 95]\n",
            " [40 43]\n",
            " [64 64]\n",
            " [38 60]\n",
            " [58 54]\n",
            " [40 52]\n",
            " [65 81]\n",
            " [78 72]\n",
            " [50 53]\n",
            " [69 75]\n",
            " [88 89]\n",
            " [18 32]\n",
            " [46 42]\n",
            " [54 58]\n",
            " [66 69]\n",
            " [65 75]\n",
            " [44 54]\n",
            " [69 73]\n",
            " [74 71]\n",
            " [73 74]\n",
            " [69 54]\n",
            " [67 69]\n",
            " [70 70]\n",
            " [62 70]\n",
            " [69 74]\n",
            " [63 65]\n",
            " [56 72]\n",
            " [40 42]\n",
            " [97 87]\n",
            " [81 81]\n",
            " [74 81]\n",
            " [50 64]\n",
            " [75 90]\n",
            " [57 56]\n",
            " [55 61]\n",
            " [58 73]\n",
            " [53 58]\n",
            " [59 65]\n",
            " [50 56]\n",
            " [65 54]\n",
            " [55 65]\n",
            " [66 71]\n",
            " [57 74]\n",
            " [82 84]\n",
            " [53 55]\n",
            " [77 69]\n",
            " [53 44]\n",
            " [88 78]\n",
            " [71 84]\n",
            " [33 41]\n",
            " [82 85]\n",
            " [52 55]\n",
            " [58 59]\n",
            " [ 0 17]\n",
            " [79 74]\n",
            " [39 39]\n",
            " [62 61]\n",
            " [69 80]\n",
            " [59 58]\n",
            " [67 64]\n",
            " [45 37]\n",
            " [60 72]\n",
            " [61 58]\n",
            " [39 64]\n",
            " [58 63]\n",
            " [63 55]\n",
            " [41 51]\n",
            " [61 57]\n",
            " [49 49]\n",
            " [44 41]\n",
            " [30 26]\n",
            " [80 78]\n",
            " [61 74]\n",
            " [62 68]]\n"
          ],
          "name": "stdout"
        }
      ]
    },
    {
      "cell_type": "code",
      "metadata": {
        "colab": {
          "base_uri": "https://localhost:8080/"
        },
        "id": "Ts16clN-JyaO",
        "outputId": "e6858ae2-c6d3-43c2-c9b4-d8de126ccca0"
      },
      "source": [
        "print(y)"
      ],
      "execution_count": 4,
      "outputs": [
        {
          "output_type": "stream",
          "text": [
            "[0 1 0 0 0 0 1 0 1 0 0 0 0 1 0 0 0 0 1 0 0 1 0 0 1 0 0 0 0 0 0 0 0 0 0 1 0\n",
            " 0 1 0 0 0 0 1 0 0 1 0 1 1 0 1 0 0 1 0 1 0 1 0 1 0 0 0 0 0 0 0 0 0 1 1 0 0\n",
            " 0 0 0 1 1 0]\n"
          ],
          "name": "stdout"
        }
      ]
    },
    {
      "cell_type": "code",
      "metadata": {
        "id": "kS_hAXAZJ6r_"
      },
      "source": [
        "from sklearn.model_selection import train_test_split\n",
        "x_train, x_test, y_train, y_test = train_test_split(x, y, test_size=0.25, random_state=0)"
      ],
      "execution_count": 5,
      "outputs": []
    },
    {
      "cell_type": "code",
      "metadata": {
        "colab": {
          "base_uri": "https://localhost:8080/"
        },
        "id": "WtjnQ95iJ_b1",
        "outputId": "2baa5ed1-3e82-4b0c-b7b8-7f2c5ee4c10d"
      },
      "source": [
        "print(x_train)"
      ],
      "execution_count": 6,
      "outputs": [
        {
          "output_type": "stream",
          "text": [
            "[[53 58]\n",
            " [75 90]\n",
            " [58 73]\n",
            " [62 68]\n",
            " [33 41]\n",
            " [18 32]\n",
            " [79 74]\n",
            " [62 61]\n",
            " [88 95]\n",
            " [82 85]\n",
            " [61 57]\n",
            " [76 78]\n",
            " [40 42]\n",
            " [88 78]\n",
            " [70 70]\n",
            " [40 52]\n",
            " [52 55]\n",
            " [69 73]\n",
            " [58 54]\n",
            " [63 65]\n",
            " [59 65]\n",
            " [39 39]\n",
            " [69 90]\n",
            " [56 72]\n",
            " [44 41]\n",
            " [50 53]\n",
            " [71 84]\n",
            " [54 58]\n",
            " [62 70]\n",
            " [82 84]\n",
            " [74 71]\n",
            " [81 81]\n",
            " [46 42]\n",
            " [72 72]\n",
            " [61 74]\n",
            " [69 75]\n",
            " [71 83]\n",
            " [ 0 17]\n",
            " [88 89]\n",
            " [77 69]\n",
            " [66 69]\n",
            " [49 49]\n",
            " [64 64]\n",
            " [78 72]\n",
            " [73 74]\n",
            " [50 64]\n",
            " [55 65]\n",
            " [57 56]\n",
            " [67 64]\n",
            " [58 59]\n",
            " [65 81]\n",
            " [58 63]\n",
            " [74 81]\n",
            " [65 75]\n",
            " [38 60]\n",
            " [30 26]\n",
            " [60 72]\n",
            " [59 58]\n",
            " [66 71]\n",
            " [50 56]]\n"
          ],
          "name": "stdout"
        }
      ]
    },
    {
      "cell_type": "code",
      "metadata": {
        "colab": {
          "base_uri": "https://localhost:8080/"
        },
        "id": "3ftH1x9rKEWD",
        "outputId": "b2cdce33-30e5-4398-9364-27766ad2c2fc"
      },
      "source": [
        "print(x_test)"
      ],
      "execution_count": 9,
      "outputs": [
        {
          "output_type": "stream",
          "text": [
            "[[53 55]\n",
            " [67 69]\n",
            " [69 74]\n",
            " [80 78]\n",
            " [65 54]\n",
            " [63 55]\n",
            " [45 37]\n",
            " [61 58]\n",
            " [57 74]\n",
            " [39 64]\n",
            " [55 61]\n",
            " [69 80]\n",
            " [90 95]\n",
            " [41 51]\n",
            " [53 44]\n",
            " [97 87]\n",
            " [47 57]\n",
            " [44 54]\n",
            " [40 43]\n",
            " [69 54]]\n"
          ],
          "name": "stdout"
        }
      ]
    },
    {
      "cell_type": "code",
      "metadata": {
        "colab": {
          "base_uri": "https://localhost:8080/"
        },
        "id": "mq4RRGsiKPAO",
        "outputId": "35c82d6c-979e-4fa8-9307-dc47a563dd8a"
      },
      "source": [
        "print(y_train)"
      ],
      "execution_count": 10,
      "outputs": [
        {
          "output_type": "stream",
          "text": [
            "[0 1 0 0 0 0 1 0 1 1 0 0 0 0 0 0 0 0 0 0 1 0 1 0 0 0 1 0 0 1 1 1 1 0 1 0 0\n",
            " 0 0 1 0 0 1 1 0 0 1 0 0 1 0 1 0 1 0 0 0 0 0 0]\n"
          ],
          "name": "stdout"
        }
      ]
    },
    {
      "cell_type": "code",
      "metadata": {
        "colab": {
          "base_uri": "https://localhost:8080/"
        },
        "id": "nupmW6lXKSvH",
        "outputId": "d5ec7fa0-1c2f-4b57-e27b-f317f55153f7"
      },
      "source": [
        "print(y_test)"
      ],
      "execution_count": 11,
      "outputs": [
        {
          "output_type": "stream",
          "text": [
            "[0 0 0 1 0 1 0 0 1 0 0 0 0 0 0 0 0 0 0 0]\n"
          ],
          "name": "stdout"
        }
      ]
    },
    {
      "cell_type": "code",
      "metadata": {
        "id": "ww5K68VrKXKZ"
      },
      "source": [
        "from sklearn.preprocessing import StandardScaler\n",
        "sc = StandardScaler()\n",
        "x_train = sc.fit_transform(x_train)\n",
        "x_test = sc.fit_transform(x_test)"
      ],
      "execution_count": 12,
      "outputs": []
    },
    {
      "cell_type": "code",
      "metadata": {
        "colab": {
          "base_uri": "https://localhost:8080/"
        },
        "id": "dzKj61YOKbCk",
        "outputId": "5ce89a6a-2246-48d2-d7c6-f3b7f7078381"
      },
      "source": [
        "print(x_train)"
      ],
      "execution_count": 13,
      "outputs": [
        {
          "output_type": "stream",
          "text": [
            "[[-0.45622173 -0.44843012]\n",
            " [ 0.87023793  1.55852987]\n",
            " [-0.15475363  0.49233237]\n",
            " [ 0.08642086  0.17874487]\n",
            " [-1.66209416 -1.51462762]\n",
            " [-2.56649848 -2.07908512]\n",
            " [ 1.11141242  0.55504987]\n",
            " [ 0.08642086 -0.26027762]\n",
            " [ 1.65405501  1.87211737]\n",
            " [ 1.29229328  1.24494237]\n",
            " [ 0.02612724 -0.51114762]\n",
            " [ 0.93053156  0.80591987]\n",
            " [-1.24003881 -1.45191012]\n",
            " [ 1.65405501  0.80591987]\n",
            " [ 0.56876983  0.30417987]\n",
            " [-1.24003881 -0.82473512]\n",
            " [-0.51651536 -0.63658262]\n",
            " [ 0.50847621  0.49233237]\n",
            " [-0.15475363 -0.69930012]\n",
            " [ 0.14671448 -0.00940762]\n",
            " [-0.09446001 -0.00940762]\n",
            " [-1.30033243 -1.64006262]\n",
            " [ 0.50847621  1.55852987]\n",
            " [-0.27534087  0.42961487]\n",
            " [-0.99886433 -1.51462762]\n",
            " [-0.6371026  -0.76201762]\n",
            " [ 0.62906345  1.18222487]\n",
            " [-0.39592811 -0.44843012]\n",
            " [ 0.08642086  0.30417987]\n",
            " [ 1.29229328  1.18222487]\n",
            " [ 0.80994431  0.36689737]\n",
            " [ 1.23199966  0.99407237]\n",
            " [-0.87827708 -1.45191012]\n",
            " [ 0.68935707  0.42961487]\n",
            " [ 0.02612724  0.55504987]\n",
            " [ 0.50847621  0.61776737]\n",
            " [ 0.62906345  1.11950737]\n",
            " [-3.65178367 -3.01984761]\n",
            " [ 1.65405501  1.49581237]\n",
            " [ 0.99082518  0.24146237]\n",
            " [ 0.32759534  0.24146237]\n",
            " [-0.69739622 -1.01288762]\n",
            " [ 0.2070081  -0.07212512]\n",
            " [ 1.0511188   0.42961487]\n",
            " [ 0.74965069  0.55504987]\n",
            " [-0.6371026  -0.07212512]\n",
            " [-0.33563449 -0.00940762]\n",
            " [-0.21504725 -0.57386512]\n",
            " [ 0.38788896 -0.07212512]\n",
            " [-0.15475363 -0.38571262]\n",
            " [ 0.26730172  0.99407237]\n",
            " [-0.15475363 -0.13484262]\n",
            " [ 0.80994431  0.99407237]\n",
            " [ 0.26730172  0.61776737]\n",
            " [-1.36062606 -0.32299512]\n",
            " [-1.84297503 -2.45539011]\n",
            " [-0.03416639  0.42961487]\n",
            " [-0.09446001 -0.44843012]\n",
            " [ 0.32759534  0.36689737]\n",
            " [-0.6371026  -0.57386512]]\n"
          ],
          "name": "stdout"
        }
      ]
    },
    {
      "cell_type": "code",
      "metadata": {
        "colab": {
          "base_uri": "https://localhost:8080/"
        },
        "id": "y3VPR7KqKgTp",
        "outputId": "6468a2e2-f108-409b-b3a3-dc40a7dba476"
      },
      "source": [
        "print(x_test)"
      ],
      "execution_count": 14,
      "outputs": [
        {
          "output_type": "stream",
          "text": [
            "[[-0.45631811 -0.48557843]\n",
            " [ 0.43096711  0.45860185]\n",
            " [ 0.55772214  0.79580909]\n",
            " [ 1.25487481  1.06557488]\n",
            " [ 0.30421208 -0.55301988]\n",
            " [ 0.17745704 -0.48557843]\n",
            " [-0.96333824 -1.6995245 ]\n",
            " [ 0.05070201 -0.28325408]\n",
            " [-0.20280805  0.79580909]\n",
            " [-1.34360334  0.12139461]\n",
            " [-0.32956308 -0.08092974]\n",
            " [ 0.55772214  1.20045778]\n",
            " [ 1.88864997  2.2120795 ]\n",
            " [-1.2168483  -0.75534422]\n",
            " [-0.45631811 -1.22743436]\n",
            " [ 2.33229258  1.67254792]\n",
            " [-0.83658321 -0.35069553]\n",
            " [-1.02671576 -0.55301988]\n",
            " [-1.28022582 -1.29487581]\n",
            " [ 0.55772214 -0.55301988]]\n"
          ],
          "name": "stdout"
        }
      ]
    },
    {
      "cell_type": "code",
      "metadata": {
        "colab": {
          "base_uri": "https://localhost:8080/"
        },
        "id": "hF6OPw9SKejS",
        "outputId": "02b7b23a-8e4e-4d5c-a48f-eabe097f45f1"
      },
      "source": [
        "from sklearn.naive_bayes import GaussianNB\n",
        "classifier = GaussianNB()\n",
        "classifier.fit(x_train, y_train)"
      ],
      "execution_count": 15,
      "outputs": [
        {
          "output_type": "execute_result",
          "data": {
            "text/plain": [
              "GaussianNB(priors=None, var_smoothing=1e-09)"
            ]
          },
          "metadata": {
            "tags": []
          },
          "execution_count": 15
        }
      ]
    },
    {
      "cell_type": "code",
      "metadata": {
        "id": "Ic0Kj6lqKq-D"
      },
      "source": [
        "y_pred = classifier.predict(x_test)"
      ],
      "execution_count": 16,
      "outputs": []
    },
    {
      "cell_type": "code",
      "metadata": {
        "colab": {
          "base_uri": "https://localhost:8080/"
        },
        "id": "COT6-HO9K7Ci",
        "outputId": "829e1f1a-180c-4d86-e764-2163765af377"
      },
      "source": [
        "from sklearn.metrics import confusion_matrix\n",
        "cm = confusion_matrix(y_test, y_pred)\n",
        "print(cm)"
      ],
      "execution_count": 18,
      "outputs": [
        {
          "output_type": "stream",
          "text": [
            "[[12  5]\n",
            " [ 2  1]]\n"
          ],
          "name": "stdout"
        }
      ]
    },
    {
      "cell_type": "code",
      "metadata": {
        "colab": {
          "base_uri": "https://localhost:8080/",
          "height": 349
        },
        "id": "vUaP7e-PK9pD",
        "outputId": "04300c78-8f78-475c-decb-fa307c190160"
      },
      "source": [
        "from matplotlib.colors import ListedColormap\n",
        "x_set, y_set = x_train, y_train\n",
        "x1, x2 = np.meshgrid(np.arange(start = x_set[:, 0].min() - 1, stop = x_set[:, 0].max() + 1, step = 0.01),\n",
        "                     np.arange(start = x_set[:, 1].min() - 1, stop = x_set[:, 1].max() + 1, step = 0.01))\n",
        "plt.contourf(x1,x2, classifier.predict(np.array([x1.ravel(), x2.ravel()]).T).reshape(x1.shape),\n",
        "            alpha = 0.75, cmap = ListedColormap(('red','green')))\n",
        "plt.xlim(x1.min(),x1.max())\n",
        "plt.xlim(x2.min(),x2.max())\n",
        "for i,j in enumerate(np.unique(y_set)):\n",
        "  plt.scatter(x_set[y_set == j, 0],x_set[y_set == j, 1],\n",
        "              c = ListedColormap(('red','green'))(i),label = j)\n",
        "plt.title('Klasifikasi Data dengan Naive Bayes(Data Students)')\n",
        "plt.xlabel('Math Score')\n",
        "plt.ylabel('Reading Score')\n",
        "plt.legend()\n",
        "plt.show()"
      ],
      "execution_count": 19,
      "outputs": [
        {
          "output_type": "stream",
          "text": [
            "*c* argument looks like a single numeric RGB or RGBA sequence, which should be avoided as value-mapping will have precedence in case its length matches with *x* & *y*.  Please use the *color* keyword-argument or provide a 2-D array with a single row if you intend to specify the same RGB or RGBA value for all points.\n",
            "*c* argument looks like a single numeric RGB or RGBA sequence, which should be avoided as value-mapping will have precedence in case its length matches with *x* & *y*.  Please use the *color* keyword-argument or provide a 2-D array with a single row if you intend to specify the same RGB or RGBA value for all points.\n"
          ],
          "name": "stderr"
        },
        {
          "output_type": "display_data",
          "data": {
            "image/png": "[encoded data removed]",
            "text/plain": [
              "<Figure size 432x288 with 1 Axes>"
            ]
          },
          "metadata": {
            "tags": [],
            "needs_background": "light"
          }
        }
      ]
    },
    {
      "cell_type": "code",
      "metadata": {
        "colab": {
          "base_uri": "https://localhost:8080/",
          "height": 349
        },
        "id": "N1L4xdx5LLmi",
        "outputId": "9e530c84-9d30-48f6-fc9c-1af05cd2605c"
      },
      "source": [
        "from matplotlib.colors import ListedColormap\n",
        "x_set, y_set = x_test, y_test\n",
        "x1, x2 = np.meshgrid(np.arange(start = x_set[:, 0].min() - 1, stop = x_set[:, 0].max() + 1, step = 0.01),\n",
        "                     np.arange(start = x_set[:, 1].min() - 1, stop = x_set[:, 1].max() + 1, step = 0.01))\n",
        "plt.contourf(x1,x2, classifier.predict(np.array([x1.ravel(), x2.ravel()]).T).reshape(x1.shape),\n",
        "            alpha = 0.75, cmap = ListedColormap(('red','green')))\n",
        "plt.xlim(x1.min(),x1.max())\n",
        "plt.xlim(x2.min(),x2.max())\n",
        "for i,j in enumerate(np.unique(y_set)):\n",
        "  plt.scatter(x_set[y_set == j, 0],x_set[y_set == j, 1],\n",
        "              c = ListedColormap(('red','green'))(i),label = j)\n",
        "plt.title('Klasifikasi Data dengan Naive Bayes(Data Students)')\n",
        "plt.xlabel('Math Score')\n",
        "plt.ylabel('Reading Score')\n",
        "plt.legend()\n",
        "plt.show()"
      ],
      "execution_count": 20,
      "outputs": [
        {
          "output_type": "stream",
          "text": [
            "*c* argument looks like a single numeric RGB or RGBA sequence, which should be avoided as value-mapping will have precedence in case its length matches with *x* & *y*.  Please use the *color* keyword-argument or provide a 2-D array with a single row if you intend to specify the same RGB or RGBA value for all points.\n",
            "*c* argument looks like a single numeric RGB or RGBA sequence, which should be avoided as value-mapping will have precedence in case its length matches with *x* & *y*.  Please use the *color* keyword-argument or provide a 2-D array with a single row if you intend to specify the same RGB or RGBA value for all points.\n"
          ],
          "name": "stderr"
        },
        {
          "output_type": "display_data",
          "data": {
            "image/png": "[encoded data removed]",
            "text/plain": [
              "<Figure size 432x288 with 1 Axes>"
            ]
          },
          "metadata": {
            "tags": [],
            "needs_background": "light"
          }
        }
      ]
    }
  ]
}